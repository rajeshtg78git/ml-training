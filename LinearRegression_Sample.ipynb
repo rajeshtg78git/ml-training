{
  "nbformat": 4,
  "nbformat_minor": 0,
  "metadata": {
    "kernelspec": {
      "display_name": "Python 3",
      "language": "python",
      "name": "python3"
    },
    "language_info": {
      "codemirror_mode": {
        "name": "ipython",
        "version": 3
      },
      "file_extension": ".py",
      "mimetype": "text/x-python",
      "name": "python",
      "nbconvert_exporter": "python",
      "pygments_lexer": "ipython3",
      "version": "3.7.3"
    },
    "colab": {
      "name": "LinearRegression_Sample.ipynb",
      "provenance": [],
      "include_colab_link": true
    }
  },
  "cells": [
    {
      "cell_type": "markdown",
      "metadata": {
        "id": "view-in-github",
        "colab_type": "text"
      },
      "source": [
        "<a href=\"https://colab.research.google.com/github/rajeshtg78git/ml-training/blob/master/LinearRegression_Sample.ipynb\" target=\"_parent\"><img src=\"https://colab.research.google.com/assets/colab-badge.svg\" alt=\"Open In Colab\"/></a>"
      ]
    },
    {
      "cell_type": "markdown",
      "metadata": {
        "id": "x4LwcpU1J2hk",
        "colab_type": "text"
      },
      "source": [
        "# Linear Regression"
      ]
    },
    {
      "cell_type": "markdown",
      "metadata": {
        "id": "bsTLp9OEJ2hm",
        "colab_type": "text"
      },
      "source": [
        "Let's fabricate some data that shows a roughly linear relationship between page speed and amount purchased:"
      ]
    },
    {
      "cell_type": "code",
      "metadata": {
        "id": "QqqI4GOcJ2hn",
        "colab_type": "code",
        "outputId": "6ed78aec-2c1f-455f-fc4c-f84caf5eb106",
        "colab": {
          "base_uri": "https://localhost:8080/",
          "height": 285
        }
      },
      "source": [
        "%matplotlib inline\n",
        "import numpy as np\n",
        "from pylab import *\n",
        "\n",
        "pageSpeeds = np.random.normal(3.0, 1.0, 1000)\n",
        "purchaseAmount = 100 - (pageSpeeds + np.random.normal(0, 0.1, 1000)) * 3\n",
        "\n",
        "scatter(pageSpeeds, purchaseAmount)"
      ],
      "execution_count": 0,
      "outputs": [
        {
          "output_type": "execute_result",
          "data": {
            "text/plain": [
              "<matplotlib.collections.PathCollection at 0x7f36f4cf56d8>"
            ]
          },
          "metadata": {
            "tags": []
          },
          "execution_count": 15
        },
        {
          "output_type": "display_data",
          "data": {
            "image/png": "[encoded data removed]",
            "text/plain": [
              "<Figure size 432x288 with 1 Axes>"
            ]
          },
          "metadata": {
            "tags": []
          }
        }
      ]
    },
    {
      "cell_type": "markdown",
      "metadata": {
        "id": "7OY6B5M3J2ht",
        "colab_type": "text"
      },
      "source": [
        "As we only have two features, we can keep it simple and just use scipy.state.linregress:"
      ]
    },
    {
      "cell_type": "code",
      "metadata": {
        "id": "Z9MWJz9rJ2hu",
        "colab_type": "code",
        "colab": {}
      },
      "source": [
        "from scipy import stats\n",
        "\n",
        "slope, intercept, r_value, p_value, std_err = stats.linregress(pageSpeeds, purchaseAmount)\n"
      ],
      "execution_count": 0,
      "outputs": []
    },
    {
      "cell_type": "markdown",
      "metadata": {
        "id": "o9Si47oKJ2hx",
        "colab_type": "text"
      },
      "source": [
        "Not surprisngly, our R-squared value shows a really good fit:"
      ]
    },
    {
      "cell_type": "code",
      "metadata": {
        "id": "j2p6oR1vJ2hy",
        "colab_type": "code",
        "outputId": "6afb7411-a0e9-4be6-cb94-c16a9cc212c0",
        "colab": {
          "base_uri": "https://localhost:8080/",
          "height": 34
        }
      },
      "source": [
        "r_value ** 2"
      ],
      "execution_count": 0,
      "outputs": [
        {
          "output_type": "execute_result",
          "data": {
            "text/plain": [
              "0.7934622915133276"
            ]
          },
          "metadata": {
            "tags": []
          },
          "execution_count": 11
        }
      ]
    },
    {
      "cell_type": "markdown",
      "metadata": {
        "id": "KavxH1j-J2h1",
        "colab_type": "text"
      },
      "source": [
        "Let's use the slope and intercept we got from the regression to plot predicted values vs. observed:"
      ]
    },
    {
      "cell_type": "code",
      "metadata": {
        "id": "L__UERJrJ2h2",
        "colab_type": "code",
        "outputId": "922de09d-e481-459c-a88c-4ffc39bb4347",
        "colab": {}
      },
      "source": [
        "import matplotlib.pyplot as plt\n",
        "\n",
        "def predict(x):\n",
        "    return slope * x + intercept\n",
        "\n",
        "fitLine = predict(pageSpeeds)\n",
        "\n",
        "plt.scatter(pageSpeeds, purchaseAmount)\n",
        "plt.plot(pageSpeeds, fitLine, c='r')\n",
        "plt.show()"
      ],
      "execution_count": 0,
      "outputs": [
        {
          "output_type": "display_data",
          "data": {
            "image/png": "[encoded data removed]",
            "text/plain": [
              "<Figure size 432x288 with 1 Axes>"
            ]
          },
          "metadata": {
            "tags": [],
            "needs_background": "light"
          }
        }
      ]
    },
    {
      "cell_type": "markdown",
      "metadata": {
        "id": "eYYoo5mkJ2h6",
        "colab_type": "text"
      },
      "source": [
        "## Activity"
      ]
    },
    {
      "cell_type": "markdown",
      "metadata": {
        "id": "HKB52LxEJ2h7",
        "colab_type": "text"
      },
      "source": [
        "Try increasing the random variation in the test data, and see what effect it has on the r-squared error value."
      ]
    },
    {
      "cell_type": "code",
      "metadata": {
        "id": "59gDg6LLJ2h8",
        "colab_type": "code",
        "colab": {}
      },
      "source": [
        ""
      ],
      "execution_count": 0,
      "outputs": []
    }
  ]
}