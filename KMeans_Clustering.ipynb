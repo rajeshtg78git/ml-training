{
  "nbformat": 4,
  "nbformat_minor": 0,
  "metadata": {
    "kernelspec": {
      "display_name": "Python 3",
      "language": "python",
      "name": "python3"
    },
    "language_info": {
      "codemirror_mode": {
        "name": "ipython",
        "version": 3
      },
      "file_extension": ".py",
      "mimetype": "text/x-python",
      "name": "python",
      "nbconvert_exporter": "python",
      "pygments_lexer": "ipython3",
      "version": "3.7.3"
    },
    "colab": {
      "name": "KMeans-Clustering.ipynb",
      "provenance": [],
      "include_colab_link": true
    }
  },
  "cells": [
    {
      "cell_type": "markdown",
      "metadata": {
        "id": "view-in-github",
        "colab_type": "text"
      },
      "source": [
        "<a href=\"https://colab.research.google.com/github/rajeshtg78git/ml-training/blob/master/KMeans_Clustering.ipynb\" target=\"_parent\"><img src=\"https://colab.research.google.com/assets/colab-badge.svg\" alt=\"Open In Colab\"/></a>"
      ]
    },
    {
      "cell_type": "markdown",
      "metadata": {
        "id": "NpkRF_sefcMA",
        "colab_type": "text"
      },
      "source": [
        "# K-Means Clustering Example"
      ]
    },
    {
      "cell_type": "markdown",
      "metadata": {
        "id": "M8064bJ3fcMD",
        "colab_type": "text"
      },
      "source": [
        "Let's make some fake data that includes people clustered by income and age, randomly:"
      ]
    },
    {
      "cell_type": "code",
      "metadata": {
        "id": "jLGRX29DfcME",
        "colab_type": "code",
        "colab": {}
      },
      "source": [
        "from numpy import random, array\n",
        "\n",
        "#Create fake income/age clusters for N people in k clusters\n",
        "def createClusteredData(N, k):\n",
        "    random.seed(10)\n",
        "    pointsPerCluster = float(N)/k\n",
        "    X = []\n",
        "    for i in range (k):\n",
        "        incomeCentroid = random.uniform(20000.0, 200000.0)\n",
        "        ageCentroid = random.uniform(20.0, 70.0)\n",
        "        for j in range(int(pointsPerCluster)):\n",
        "            X.append([random.normal(incomeCentroid, 10000.0), random.normal(ageCentroid, 2.0)])\n",
        "    X = array(X)\n",
        "    return X"
      ],
      "execution_count": 0,
      "outputs": []
    },
    {
      "cell_type": "markdown",
      "metadata": {
        "id": "9htVav49fcMI",
        "colab_type": "text"
      },
      "source": [
        "We'll use k-means to rediscover these clusters in unsupervised learning:"
      ]
    },
    {
      "cell_type": "code",
      "metadata": {
        "id": "OSHIOCAKfcMJ",
        "colab_type": "code",
        "colab": {
          "base_uri": "https://localhost:8080/",
          "height": 425
        },
        "outputId": "a61d2755-11e6-4dd1-da10-ba261effb104"
      },
      "source": [
        "%matplotlib inline\n",
        "\n",
        "from sklearn.cluster import KMeans\n",
        "import matplotlib.pyplot as plt\n",
        "from sklearn.preprocessing import scale\n",
        "from numpy import random, float\n",
        "\n",
        "data = createClusteredData(100, 5)\n",
        "\n",
        "model = KMeans(n_clusters=5)\n",
        "\n",
        "# Note I'm scaling the data to normalize it! Important for good results.\n",
        "model = model.fit(scale(data))\n",
        "\n",
        "# We can look at the clusters each data point was assigned to\n",
        "print(model.labels_)\n",
        "\n",
        "# And we'll visualize it:\n",
        "plt.figure(figsize=(8, 6))\n",
        "plt.scatter(data[:,0], data[:,1], c=model.labels_.astype(float))\n",
        "plt.show()"
      ],
      "execution_count": 7,
      "outputs": [
        {
          "output_type": "stream",
          "text": [
            "[2 2 2 2 2 2 2 2 2 2 2 2 2 2 2 2 2 2 2 2 3 3 3 3 3 3 3 3 3 3 3 3 3 3 3 3 3\n",
            " 3 3 3 0 0 0 0 0 0 0 0 0 0 0 0 0 0 0 0 0 0 0 4 1 1 1 1 1 1 1 1 1 1 1 1 1 1\n",
            " 1 1 1 1 1 1 4 4 4 4 4 4 4 4 4 4 4 4 4 4 4 4 4 4 4 4]\n"
          ],
          "name": "stdout"
        },
        {
          "output_type": "display_data",
          "data": {
            "image/png": "[encoded data removed]",
            "text/plain": [
              "<Figure size 576x432 with 1 Axes>"
            ]
          },
          "metadata": {
            "tags": []
          }
        }
      ]
    },
    {
      "cell_type": "markdown",
      "metadata": {
        "id": "ZV-DDvGjfcMO",
        "colab_type": "text"
      },
      "source": [
        "## Activity"
      ]
    },
    {
      "cell_type": "markdown",
      "metadata": {
        "id": "Lz4PymEDfcMP",
        "colab_type": "text"
      },
      "source": [
        "Things to play with: what happens if you don't scale the data? What happens if you choose different values of K? In the real world, you won't know the \"right\" value of K to start with - you'll need to converge on it yourself."
      ]
    },
    {
      "cell_type": "code",
      "metadata": {
        "id": "dxs3yrpUfcMP",
        "colab_type": "code",
        "colab": {}
      },
      "source": [
        ""
      ],
      "execution_count": 0,
      "outputs": []
    }
  ]
}